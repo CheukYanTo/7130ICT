{
 "cells": [
  {
   "cell_type": "markdown",
   "metadata": {},
   "source": [
    "# Topic Modelling for News"
   ]
  },
  {
   "cell_type": "markdown",
   "metadata": {},
   "source": [
    "![](https://images.unsplash.com/photo-1495020689067-958852a7765e?ixlib=rb-1.2.1&ixid=eyJhcHBfaWQiOjEyMDd9&auto=format&fit=crop&w=1050&q=80)\n",
    "\n",
    "Photo by [Roman Kraft](https://unsplash.com/photos/_Zua2hyvTBk)"
   ]
  },
  {
   "cell_type": "markdown",
   "metadata": {},
   "source": [
    "This exercise is about modelling the main topics of a database of News headlines."
   ]
  },
  {
   "cell_type": "markdown",
   "metadata": {},
   "source": [
    "Begin by importing the needed libraries:"
   ]
  },
  {
   "cell_type": "code",
   "execution_count": 1,
   "metadata": {},
   "outputs": [],
   "source": [
    "# TODO: import needed libraries\n",
    "import nltk\n",
    "import numpy as np\n",
    "import pandas as pd"
   ]
  },
  {
   "cell_type": "markdown",
   "metadata": {},
   "source": [
    "Load the data in the file `random_headlines.csv`"
   ]
  },
  {
   "cell_type": "code",
   "execution_count": 2,
   "metadata": {
    "scrolled": true
   },
   "outputs": [
    {
     "name": "stdout",
     "output_type": "stream",
     "text": [
      "(20000, 2)\n"
     ]
    },
    {
     "data": {
      "text/html": [
       "<div>\n",
       "<style scoped>\n",
       "    .dataframe tbody tr th:only-of-type {\n",
       "        vertical-align: middle;\n",
       "    }\n",
       "\n",
       "    .dataframe tbody tr th {\n",
       "        vertical-align: top;\n",
       "    }\n",
       "\n",
       "    .dataframe thead th {\n",
       "        text-align: right;\n",
       "    }\n",
       "</style>\n",
       "<table border=\"1\" class=\"dataframe\">\n",
       "  <thead>\n",
       "    <tr style=\"text-align: right;\">\n",
       "      <th></th>\n",
       "      <th>publish_date</th>\n",
       "      <th>headline_text</th>\n",
       "    </tr>\n",
       "  </thead>\n",
       "  <tbody>\n",
       "    <tr>\n",
       "      <th>0</th>\n",
       "      <td>20120305</td>\n",
       "      <td>ute driver hurt in intersection crash</td>\n",
       "    </tr>\n",
       "    <tr>\n",
       "      <th>1</th>\n",
       "      <td>20081128</td>\n",
       "      <td>6yo dies in cycling accident</td>\n",
       "    </tr>\n",
       "    <tr>\n",
       "      <th>2</th>\n",
       "      <td>20090325</td>\n",
       "      <td>bumper olive harvest expected</td>\n",
       "    </tr>\n",
       "    <tr>\n",
       "      <th>3</th>\n",
       "      <td>20100201</td>\n",
       "      <td>replica replaces northernmost sign</td>\n",
       "    </tr>\n",
       "    <tr>\n",
       "      <th>4</th>\n",
       "      <td>20080225</td>\n",
       "      <td>woods targets perfect season</td>\n",
       "    </tr>\n",
       "  </tbody>\n",
       "</table>\n",
       "</div>"
      ],
      "text/plain": [
       "   publish_date                          headline_text\n",
       "0      20120305  ute driver hurt in intersection crash\n",
       "1      20081128           6yo dies in cycling accident\n",
       "2      20090325          bumper olive harvest expected\n",
       "3      20100201     replica replaces northernmost sign\n",
       "4      20080225           woods targets perfect season"
      ]
     },
     "execution_count": 2,
     "metadata": {},
     "output_type": "execute_result"
    }
   ],
   "source": [
    "# TODO: load the dataset\n",
    "df = pd.read_csv('random_headlines.csv')\n",
    "print(df.shape)\n",
    "df.head()"
   ]
  },
  {
   "cell_type": "markdown",
   "metadata": {},
   "source": [
    "This is always a good idea to perform some EDA (exploratory data analytics) on a dataset..."
   ]
  },
  {
   "cell_type": "code",
   "execution_count": 3,
   "metadata": {},
   "outputs": [
    {
     "name": "stdout",
     "output_type": "stream",
     "text": [
      "<class 'pandas.core.frame.DataFrame'>\n",
      "RangeIndex: 20000 entries, 0 to 19999\n",
      "Data columns (total 2 columns):\n",
      " #   Column         Non-Null Count  Dtype \n",
      "---  ------         --------------  ----- \n",
      " 0   publish_date   20000 non-null  int64 \n",
      " 1   headline_text  20000 non-null  object\n",
      "dtypes: int64(1), object(1)\n",
      "memory usage: 312.6+ KB\n"
     ]
    }
   ],
   "source": [
    "# TODO: Perform a short EDA\n",
    "df.info()"
   ]
  },
  {
   "cell_type": "markdown",
   "metadata": {},
   "source": [
    "Now perform all the needed preprocessing on those headlines: case lowering, tokenization, punctuation removal, stopwords removal, stemming/lemmatization."
   ]
  },
  {
   "cell_type": "code",
   "execution_count": 4,
   "metadata": {},
   "outputs": [
    {
     "data": {
      "text/plain": [
       "0    [ute, driver, hurt, intersect, crash]\n",
       "1                       [die, cycl, accid]\n",
       "2          [bumper, oliv, harvest, expect]\n",
       "3    [replica, replac, northernmost, sign]\n",
       "4          [wood, target, perfect, season]\n",
       "Name: stemmed, dtype: object"
      ]
     },
     "execution_count": 4,
     "metadata": {},
     "output_type": "execute_result"
    }
   ],
   "source": [
    "# TODO: Preprocess the input data\n",
    "\n",
    "# tokenize\n",
    "df['tokens'] = df['headline_text'].apply(lambda row: nltk.word_tokenize(row))\n",
    "\n",
    "# punctuation\n",
    "df['alphanumeric'] = df['tokens'].apply(lambda row: [\n",
    "    word for word in row if word.isalpha()\n",
    "])\n",
    "\n",
    "# remove stopwords\n",
    "stop = nltk.corpus.stopwords.words('english')\n",
    "df['stop'] = df['alphanumeric'].apply(lambda row: [\n",
    "    word for word in row if word not in stop\n",
    "\n",
    "])\n",
    "\n",
    "# stemming\n",
    "stemmer = nltk.PorterStemmer()\n",
    "df['stemmed'] = df['stop'].apply(lambda row: [\n",
    "    stemmer.stem(word) for word in row\n",
    "])\n",
    "\n",
    "df['stemmed'].head()"
   ]
  },
  {
   "cell_type": "markdown",
   "metadata": {},
   "source": [
    "Now use Gensim to compute a BOW"
   ]
  },
  {
   "cell_type": "code",
   "execution_count": 5,
   "metadata": {},
   "outputs": [
    {
     "name": "stdout",
     "output_type": "stream",
     "text": [
      "(20000,)\n"
     ]
    },
    {
     "name": "stderr",
     "output_type": "stream",
     "text": [
      "C:\\Users\\USER\\anaconda3\\lib\\site-packages\\numpy\\core\\fromnumeric.py:1970: VisibleDeprecationWarning: Creating an ndarray from ragged nested sequences (which is a list-or-tuple of lists-or-tuples-or ndarrays with different lengths or shapes) is deprecated. If you meant to do this, you must specify 'dtype=object' when creating the ndarray.\n",
      "  result = asarray(a).shape\n"
     ]
    },
    {
     "data": {
      "text/plain": [
       "[[(0, 1), (1, 1), (2, 1), (3, 1), (4, 1)], [(5, 1), (6, 1), (7, 1)]]"
      ]
     },
     "execution_count": 5,
     "metadata": {},
     "output_type": "execute_result"
    }
   ],
   "source": [
    "# TODO: Compute the BOW using Gensim\n",
    "from gensim.corpora import Dictionary\n",
    "\n",
    "dictionary = Dictionary(df['stemmed'])\n",
    "corpus = [dictionary.doc2bow(line) for line in df['stemmed']]\n",
    "print(np.shape(corpus))\n",
    "corpus[0:2]"
   ]
  },
  {
   "cell_type": "markdown",
   "metadata": {},
   "source": [
    "Compute the TF-IDF using Gensim"
   ]
  },
  {
   "cell_type": "code",
   "execution_count": 6,
   "metadata": {},
   "outputs": [
    {
     "name": "stdout",
     "output_type": "stream",
     "text": [
      "(20000,)\n"
     ]
    }
   ],
   "source": [
    "# TODO: Compute TF-IDF\n",
    "from gensim.models import TfidfModel\n",
    "\n",
    "tfidf_model = TfidfModel(corpus)\n",
    "tf_idf = tfidf_model[corpus]\n",
    "print(np.shape(tf_idf))"
   ]
  },
  {
   "cell_type": "markdown",
   "metadata": {},
   "source": [
    "Finally compute the **LSA** (also called LSI) using Gensim, for a given number of Topics that you choose yourself"
   ]
  },
  {
   "cell_type": "code",
   "execution_count": 7,
   "metadata": {},
   "outputs": [],
   "source": [
    "# TODO: Compute LSA\n",
    "from gensim.models import LsiModel\n",
    "\n",
    "lsi = LsiModel(corpus=corpus, num_topics=4, id2word=dictionary)"
   ]
  },
  {
   "cell_type": "markdown",
   "metadata": {},
   "source": [
    "For each of the topic, show the most significant words."
   ]
  },
  {
   "cell_type": "code",
   "execution_count": 8,
   "metadata": {},
   "outputs": [
    {
     "data": {
      "text/plain": [
       "[(0, '-0.752*\"polic\" + -0.404*\"man\" + -0.208*\"charg\"'),\n",
       " (1, '0.670*\"man\" + -0.574*\"polic\" + 0.329*\"charg\"'),\n",
       " (2, '0.655*\"new\" + 0.297*\"plan\" + -0.240*\"man\"'),\n",
       " (3, '-0.702*\"new\" + 0.346*\"say\" + 0.328*\"plan\"')]"
      ]
     },
     "execution_count": 8,
     "metadata": {},
     "output_type": "execute_result"
    }
   ],
   "source": [
    "# TODO: Print the 3 or 4 most significant words of each topic\n",
    "lsi.print_topics(num_words=3)"
   ]
  },
  {
   "cell_type": "markdown",
   "metadata": {},
   "source": [
    "What do you think about those results?"
   ]
  },
  {
   "cell_type": "markdown",
   "metadata": {},
   "source": [
    "It shows the frequently used words in the news topic: 'polic', 'man', 'charg', 'new', 'plan', 'say'.\n",
    "\n",
    "And 0 and 1 show the same words in a different order, this also happened with 2 and 3."
   ]
  },
  {
   "cell_type": "markdown",
   "metadata": {},
   "source": [
    "Now let's try to use LDA instead of LSA using Gensim"
   ]
  },
  {
   "cell_type": "code",
   "execution_count": 9,
   "metadata": {},
   "outputs": [],
   "source": [
    "# TODO: Compute LDA\n",
    "from gensim.models import LdaModel\n",
    "\n",
    "lda = LdaModel(corpus=corpus, num_topics=4, id2word=dictionary, random_state=0, chunksize=512, passes=5)"
   ]
  },
  {
   "cell_type": "code",
   "execution_count": 10,
   "metadata": {
    "scrolled": true
   },
   "outputs": [
    {
     "data": {
      "text/plain": [
       "[(0, '0.016*\"report\" + 0.009*\"back\" + 0.009*\"may\"'),\n",
       " (1, '0.012*\"mine\" + 0.011*\"polic\" + 0.009*\"elect\"'),\n",
       " (2, '0.013*\"question\" + 0.010*\"council\" + 0.010*\"fund\"'),\n",
       " (3, '0.012*\"sydney\" + 0.012*\"charg\" + 0.011*\"australian\"')]"
      ]
     },
     "execution_count": 10,
     "metadata": {},
     "output_type": "execute_result"
    }
   ],
   "source": [
    "# TODO: print the most frequent words of each topic\n",
    "lda.print_topics(num_words=3)"
   ]
  },
  {
   "cell_type": "markdown",
   "metadata": {},
   "source": [
    "Now, how does it work with LDA?"
   ]
  },
  {
   "cell_type": "markdown",
   "metadata": {},
   "source": [
    "It shows the frequently used words in the news topic and there is no repeated topic."
   ]
  },
  {
   "cell_type": "markdown",
   "metadata": {},
   "source": [
    "Let's make some visualization of the LDA results using pyLDAvis."
   ]
  },
  {
   "cell_type": "code",
   "execution_count": 13,
   "metadata": {},
   "outputs": [
    {
     "data": {
      "text/html": [
       "\n",
       "<link rel=\"stylesheet\" type=\"text/css\" href=\"https://cdn.jsdelivr.net/gh/bmabey/pyLDAvis@3.4.0/pyLDAvis/js/ldavis.v1.0.0.css\">\n",
       "\n",
       "\n",
       "<div id=\"ldavis_el8325620573590130244057082795\" style=\"background-color:white;\"></div>\n",
       "<script type=\"text/javascript\">\n",
       "\n",
       "var ldavis_el8325620573590130244057082795_data = {\"mdsDat\": {\"x\": [-0.2284945193217148, -0.14962673296859094, 0.21956889574526514, 0.15855235654504066], \"y\": [-0.02862286892380212, -0.010718595573706495, -0.23570066753340413, 0.27504213203091277], \"topics\": [1, 2, 3, 4], \"cluster\": [1, 1, 1, 1], \"Freq\": [26.89276806511777, 26.673314832821525, 23.91931294940767, 22.51460415265304]}, \"tinfo\": {\"Term\": [\"report\", \"question\", \"mine\", \"sydney\", \"charg\", \"council\", \"australian\", \"fund\", \"interview\", \"elect\", \"back\", \"win\", \"may\", \"labor\", \"trial\", \"union\", \"road\", \"cut\", \"call\", \"govern\", \"final\", \"lead\", \"stori\", \"begin\", \"want\", \"urg\", \"warn\", \"govt\", \"forc\", \"attack\", \"question\", \"council\", \"fund\", \"cut\", \"govern\", \"urg\", \"forc\", \"set\", \"want\", \"aussi\", \"support\", \"concern\", \"farmer\", \"approv\", \"group\", \"doctor\", \"claim\", \"hospit\", \"school\", \"mp\", \"citi\", \"coast\", \"team\", \"figur\", \"ban\", \"reduc\", \"titl\", \"men\", \"job\", \"seek\", \"disput\", \"draw\", \"next\", \"drug\", \"govt\", \"plan\", \"new\", \"say\", \"wa\", \"fear\", \"polic\", \"chang\", \"mine\", \"elect\", \"win\", \"road\", \"final\", \"warn\", \"commun\", \"club\", \"run\", \"rise\", \"station\", \"student\", \"drought\", \"perth\", \"woman\", \"rate\", \"found\", \"search\", \"debat\", \"stage\", \"fall\", \"turnbul\", \"held\", \"record\", \"minist\", \"world\", \"injuri\", \"telstra\", \"countri\", \"review\", \"qld\", \"econom\", \"friday\", \"eye\", \"debt\", \"polic\", \"call\", \"water\", \"help\", \"health\", \"take\", \"trade\", \"futur\", \"miss\", \"hit\", \"sydney\", \"charg\", \"australian\", \"interview\", \"trial\", \"stori\", \"lead\", \"murder\", \"market\", \"open\", \"shoot\", \"accus\", \"leav\", \"day\", \"test\", \"two\", \"busi\", \"success\", \"olymp\", \"bu\", \"risk\", \"point\", \"board\", \"arm\", \"pull\", \"full\", \"second\", \"appoint\", \"hope\", \"fourth\", \"latest\", \"sieg\", \"line\", \"sold\", \"man\", \"melbourn\", \"polic\", \"court\", \"us\", \"report\", \"back\", \"may\", \"labor\", \"union\", \"begin\", \"blaze\", \"car\", \"die\", \"drum\", \"work\", \"news\", \"pole\", \"dead\", \"judg\", \"abc\", \"great\", \"rural\", \"collaps\", \"resid\", \"state\", \"train\", \"garrett\", \"iraq\", \"pakistan\", \"big\", \"fail\", \"deni\", \"former\", \"bid\", \"italian\", \"singapor\", \"lock\", \"sunday\", \"paint\", \"attack\", \"pay\", \"crash\", \"call\", \"kill\", \"man\", \"us\"], \"Freq\": [373.0, 354.0, 336.0, 298.0, 284.0, 284.0, 259.0, 264.0, 229.0, 235.0, 203.0, 229.0, 202.0, 190.0, 195.0, 183.0, 206.0, 206.0, 366.0, 199.0, 195.0, 176.0, 175.0, 167.0, 188.0, 183.0, 179.0, 343.0, 180.0, 230.0, 353.65637897005394, 283.84754319627655, 264.16385329734715, 206.04243885560768, 198.96309353218734, 182.68975837111944, 179.8347685822628, 172.31923302163742, 187.93637495230715, 167.1869732871217, 162.5745290807883, 147.486298807662, 142.8545445978966, 142.5256707004569, 135.90208257048042, 138.26866931178762, 132.43109981785148, 127.63851884630196, 120.16085812940076, 119.4660962827, 124.82484706878083, 115.42760756094432, 124.99840584214253, 122.94941277005594, 112.59362366404464, 119.99918342335415, 134.9972361089295, 120.29676046892406, 107.57167376949367, 105.92263416503137, 112.26038156888913, 109.14042204564714, 109.45870948744616, 166.94191739526434, 232.07843895872094, 208.709891638412, 221.3401499044881, 162.20055996575294, 147.61892499889842, 133.92641098181787, 172.32320294250266, 127.49490792257428, 335.9709214856154, 234.9314280454202, 228.4688407427863, 206.07222349437305, 194.37084188252416, 179.2112810714729, 147.21565301255205, 150.34313107506682, 155.4827226889553, 140.19991351962557, 137.6427904269398, 146.02485112744404, 152.74629566230175, 145.53464836745496, 127.96104061826203, 126.62967291014228, 120.22514180274378, 116.99270129945775, 111.62939709479829, 117.16852644911927, 109.05685521452806, 115.30597513731486, 113.86452238296188, 102.20624329095139, 102.14463185461182, 100.66403959111364, 116.17866577179593, 111.87784345970269, 95.22566755367725, 95.70454833617146, 167.03570165600362, 115.55779834412824, 111.96938773243558, 113.38544408707298, 104.52492948786302, 291.3673253332781, 185.10898006533046, 129.43521688213312, 137.6460780692512, 123.09162184269242, 125.75914855160282, 121.0240006560146, 121.71441828420792, 118.86817381011394, 118.59434378829363, 298.2144259078412, 283.71570349887264, 258.84959466950244, 229.11119291710577, 194.49725294126947, 175.1093369074752, 175.72692671778032, 163.84696748124693, 152.26591869614307, 146.6973374277937, 141.0329283803447, 136.23959681596102, 133.548865678731, 130.0427528127085, 122.43678565754904, 121.85074610935867, 114.17900448526318, 110.28431260322792, 110.43405350679596, 104.85084553235934, 113.75809816337483, 103.39448269063628, 104.28217519764756, 102.28003053081639, 97.05859356264203, 100.93640759710632, 93.3010727586311, 97.18398328599766, 95.90242100913115, 99.42808566743119, 101.5227442502641, 99.22531152718281, 99.90641323782607, 98.87707022405125, 229.20651790318362, 125.2390568558083, 217.13585155892383, 145.12617779751415, 113.43619635831442, 373.0616063516683, 202.4676965631093, 201.56382397413452, 189.39614618541776, 182.60405469846324, 166.60783102581803, 154.3242354551156, 134.54369471171117, 120.66073061615444, 121.39427064546285, 114.25478076168434, 109.0620793116528, 114.69109929432307, 106.26921046139172, 113.36858033711545, 101.14532611901019, 105.96020035109521, 93.39028990253479, 119.8182749832099, 90.92842725277721, 91.32022655931975, 89.96113170736942, 94.83170606323775, 79.60563058274663, 79.37439735669788, 75.22619288848519, 74.03198804282974, 72.51416639225623, 71.7734682221005, 71.99423582674514, 104.8528558606801, 103.55957180478426, 99.87876005239265, 96.69493086626686, 92.90628986970655, 187.18371597179706, 135.06872901551233, 156.61082852544885, 181.20843773194187, 143.07350959312018, 112.83832935666373, 100.27647517781726], \"Total\": [373.0, 354.0, 336.0, 298.0, 284.0, 284.0, 259.0, 264.0, 229.0, 235.0, 203.0, 229.0, 202.0, 190.0, 195.0, 183.0, 206.0, 206.0, 366.0, 199.0, 195.0, 176.0, 175.0, 167.0, 188.0, 183.0, 179.0, 343.0, 180.0, 230.0, 354.44293224389264, 284.5489516499907, 264.9056486195232, 206.7631101522311, 199.68130518393525, 183.38960877818172, 180.55911047095609, 173.03333979393358, 188.72921602427002, 167.91716254894013, 163.3024992494417, 148.1895622447457, 143.55553583235204, 143.25258923260074, 136.60301198725702, 138.9866138920608, 133.13919796140362, 128.34768366848186, 120.86779211975738, 120.17402831218642, 125.57556131245272, 116.12355665450312, 125.75218311860773, 123.71433197252264, 113.30042450797684, 120.7536365454434, 135.85303680427788, 121.06808768504064, 108.26996815498333, 106.63452554094142, 113.03625079162299, 109.93283237969455, 110.3456528928926, 205.24258296115664, 343.3593582330793, 322.7045618884173, 442.1728566381771, 329.5328201030468, 254.58717318141868, 184.55323247259867, 698.4248479268833, 169.19479586791564, 336.71896776913695, 235.65340039888233, 229.18626456543208, 206.79087927103959, 195.08920519789334, 179.92894646276673, 147.92555495596503, 151.08449313676584, 156.26001333223905, 140.90333063389932, 138.3635990696472, 146.79477318900493, 153.5548270592627, 146.30880218803838, 128.67635140297642, 127.35459368232779, 120.93827132364906, 117.70138762158936, 112.33490773266846, 117.91207348810471, 109.76851778817687, 116.06828111745246, 114.6345532138966, 102.91524283343422, 102.85334879157081, 101.3713651477488, 117.01347661075168, 112.6994593911724, 95.92640922411125, 96.41735642143733, 168.45172827990294, 116.47669935041877, 112.88291402107306, 114.38322695044299, 105.56943058184552, 698.4248479268833, 366.7936077822601, 180.5153038110904, 224.35568760775473, 164.41093716985822, 195.05869078689682, 161.49002895808817, 176.48423784892793, 166.2077511033992, 182.09340194963033, 298.94062313684657, 284.4329194292732, 259.62135866374825, 229.82002524704964, 195.23248315152435, 175.8426140235311, 176.46742097738326, 164.56131028679403, 152.99028955304593, 147.42486301964237, 141.76185820018063, 136.96627654670604, 134.274466885159, 130.76038974207958, 123.15799411971192, 122.58154646786664, 114.91058488454793, 111.01480626555394, 111.18024520473179, 105.58441117650844, 114.5770652444512, 104.15301039676392, 105.04841752678077, 103.03435603073044, 97.77739279765743, 101.69682376159545, 94.01185976068697, 97.92689077654708, 96.63601066552566, 100.19390719647176, 102.32644565650806, 100.00108886325134, 100.73432169534934, 99.84512940824257, 385.38862402962803, 150.85419015227382, 698.4248479268833, 257.2863117757643, 214.19385628653248, 373.7820056164844, 203.1723170241942, 202.26712514383465, 190.15184898523032, 183.34301950814165, 167.32106849834412, 155.06396074668197, 135.23902613837922, 121.3496508636748, 122.09485676704602, 114.95422473511327, 109.74891296345945, 115.41356407918735, 106.9667632035018, 114.11750416651893, 101.82993099691187, 106.67916027293472, 94.08043382725393, 120.7091192128322, 91.62709236970919, 92.02672848636188, 90.66812428134979, 95.60889250302742, 80.29667514373088, 80.08318350363592, 75.9329672280925, 74.7290652696152, 73.2147627452156, 72.47327681478038, 72.7028237700343, 105.94257381491344, 104.63536723331256, 101.02643705644833, 97.94420161667539, 94.82632979491383, 230.0150259658714, 162.42328581566886, 201.36392581206854, 366.7936077822601, 228.63168127493202, 385.38862402962803, 214.19385628653248], \"Category\": [\"Default\", \"Default\", \"Default\", \"Default\", \"Default\", \"Default\", \"Default\", \"Default\", \"Default\", \"Default\", \"Default\", \"Default\", \"Default\", \"Default\", \"Default\", \"Default\", \"Default\", \"Default\", \"Default\", \"Default\", \"Default\", \"Default\", \"Default\", \"Default\", \"Default\", \"Default\", \"Default\", \"Default\", \"Default\", \"Default\", \"Topic1\", \"Topic1\", \"Topic1\", \"Topic1\", \"Topic1\", \"Topic1\", \"Topic1\", \"Topic1\", \"Topic1\", \"Topic1\", \"Topic1\", \"Topic1\", \"Topic1\", \"Topic1\", \"Topic1\", \"Topic1\", \"Topic1\", \"Topic1\", \"Topic1\", \"Topic1\", \"Topic1\", \"Topic1\", \"Topic1\", \"Topic1\", \"Topic1\", \"Topic1\", \"Topic1\", \"Topic1\", \"Topic1\", \"Topic1\", \"Topic1\", \"Topic1\", \"Topic1\", \"Topic1\", \"Topic1\", \"Topic1\", \"Topic1\", \"Topic1\", \"Topic1\", \"Topic1\", \"Topic1\", \"Topic1\", \"Topic2\", \"Topic2\", \"Topic2\", \"Topic2\", \"Topic2\", \"Topic2\", \"Topic2\", \"Topic2\", \"Topic2\", \"Topic2\", \"Topic2\", \"Topic2\", \"Topic2\", \"Topic2\", \"Topic2\", \"Topic2\", \"Topic2\", \"Topic2\", \"Topic2\", \"Topic2\", \"Topic2\", \"Topic2\", \"Topic2\", \"Topic2\", \"Topic2\", \"Topic2\", \"Topic2\", \"Topic2\", \"Topic2\", \"Topic2\", \"Topic2\", \"Topic2\", \"Topic2\", \"Topic2\", \"Topic2\", \"Topic2\", \"Topic2\", \"Topic2\", \"Topic2\", \"Topic2\", \"Topic2\", \"Topic2\", \"Topic2\", \"Topic2\", \"Topic2\", \"Topic3\", \"Topic3\", \"Topic3\", \"Topic3\", \"Topic3\", \"Topic3\", \"Topic3\", \"Topic3\", \"Topic3\", \"Topic3\", \"Topic3\", \"Topic3\", \"Topic3\", \"Topic3\", \"Topic3\", \"Topic3\", \"Topic3\", \"Topic3\", \"Topic3\", \"Topic3\", \"Topic3\", \"Topic3\", \"Topic3\", \"Topic3\", \"Topic3\", \"Topic3\", \"Topic3\", \"Topic3\", \"Topic3\", \"Topic3\", \"Topic3\", \"Topic3\", \"Topic3\", \"Topic3\", \"Topic3\", \"Topic3\", \"Topic3\", \"Topic3\", \"Topic3\", \"Topic4\", \"Topic4\", \"Topic4\", \"Topic4\", \"Topic4\", \"Topic4\", \"Topic4\", \"Topic4\", \"Topic4\", \"Topic4\", \"Topic4\", \"Topic4\", \"Topic4\", \"Topic4\", \"Topic4\", \"Topic4\", \"Topic4\", \"Topic4\", \"Topic4\", \"Topic4\", \"Topic4\", \"Topic4\", \"Topic4\", \"Topic4\", \"Topic4\", \"Topic4\", \"Topic4\", \"Topic4\", \"Topic4\", \"Topic4\", \"Topic4\", \"Topic4\", \"Topic4\", \"Topic4\", \"Topic4\", \"Topic4\", \"Topic4\", \"Topic4\", \"Topic4\", \"Topic4\", \"Topic4\", \"Topic4\"], \"logprob\": [30.0, 29.0, 28.0, 27.0, 26.0, 25.0, 24.0, 23.0, 22.0, 21.0, 20.0, 19.0, 18.0, 17.0, 16.0, 15.0, 14.0, 13.0, 12.0, 11.0, 10.0, 9.0, 8.0, 7.0, 6.0, 5.0, 4.0, 3.0, 2.0, 1.0, -4.3569, -4.5768, -4.6486, -4.8971, -4.9321, -5.0174, -5.0332, -5.0759, -4.9891, -5.1061, -5.1341, -5.2315, -5.2634, -5.2657, -5.3133, -5.296, -5.3391, -5.376, -5.4364, -5.4422, -5.3983, -5.4766, -5.3969, -5.4134, -5.5014, -5.4377, -5.32, -5.4353, -5.5471, -5.5625, -5.5044, -5.5326, -5.5297, -5.1076, -4.7781, -4.8843, -4.8255, -5.1364, -5.2306, -5.3279, -5.0758, -5.3771, -4.4, -4.7577, -4.7856, -4.8888, -4.9473, -5.0285, -5.2251, -5.2041, -5.1705, -5.2739, -5.2924, -5.2332, -5.1882, -5.2366, -5.3653, -5.3758, -5.4277, -5.4549, -5.5018, -5.4534, -5.5251, -5.4694, -5.482, -5.59, -5.5906, -5.6052, -5.4619, -5.4996, -5.6608, -5.6558, -5.0988, -5.4672, -5.4988, -5.4862, -5.5676, -4.5424, -4.9961, -5.3538, -5.2923, -5.4041, -5.3826, -5.421, -5.4153, -5.439, -5.4413, -4.4102, -4.4601, -4.5518, -4.6738, -4.8376, -4.9426, -4.9391, -5.0091, -5.0824, -5.1197, -5.159, -5.1936, -5.2136, -5.2402, -5.3004, -5.3052, -5.3703, -5.405, -5.4036, -5.4555, -5.374, -5.4695, -5.4609, -5.4803, -5.5327, -5.4936, -5.5722, -5.5314, -5.5447, -5.5086, -5.4878, -5.5106, -5.5038, -5.5142, -4.6734, -5.2778, -4.7275, -5.1304, -5.3768, -4.1258, -4.7369, -4.7414, -4.8037, -4.8402, -4.9319, -5.0085, -5.1456, -5.2545, -5.2485, -5.3091, -5.3556, -5.3053, -5.3815, -5.3169, -5.431, -5.3845, -5.5107, -5.2615, -5.5374, -5.5331, -5.5481, -5.4954, -5.6704, -5.6733, -5.727, -5.743, -5.7637, -5.774, -5.7709, -5.395, -5.4074, -5.4436, -5.476, -5.5159, -4.8154, -5.1417, -4.9938, -4.8479, -5.0842, -5.3216, -5.4396], \"loglift\": [30.0, 29.0, 28.0, 27.0, 26.0, 25.0, 24.0, 23.0, 22.0, 21.0, 20.0, 19.0, 18.0, 17.0, 16.0, 15.0, 14.0, 13.0, 12.0, 11.0, 10.0, 9.0, 8.0, 7.0, 6.0, 5.0, 4.0, 3.0, 2.0, 1.0, 1.3111, 1.3108, 1.3105, 1.3098, 1.3097, 1.3095, 1.3093, 1.3092, 1.3091, 1.309, 1.3088, 1.3086, 1.3084, 1.3082, 1.3082, 1.3081, 1.308, 1.3078, 1.3074, 1.3074, 1.3073, 1.3073, 1.3073, 1.3071, 1.3071, 1.307, 1.307, 1.3069, 1.3068, 1.3066, 1.3064, 1.3061, 1.3052, 1.1068, 0.9216, 0.8775, 0.6213, 0.6045, 0.7683, 0.9927, -0.0861, 1.0303, 1.3193, 1.3184, 1.3184, 1.318, 1.3178, 1.3175, 1.3167, 1.3166, 1.3165, 1.3165, 1.3163, 1.3162, 1.3162, 1.3162, 1.3159, 1.3158, 1.3156, 1.3155, 1.3152, 1.3152, 1.315, 1.3149, 1.3148, 1.3146, 1.3146, 1.3145, 1.3143, 1.3142, 1.3142, 1.3141, 1.3131, 1.3136, 1.3134, 1.3127, 1.3116, 0.4473, 0.6377, 0.9889, 0.833, 1.0321, 0.8826, 1.0331, 0.95, 0.9863, 0.8927, 1.4281, 1.428, 1.4275, 1.4274, 1.4267, 1.4263, 1.4263, 1.4261, 1.4257, 1.4255, 1.4253, 1.4252, 1.4251, 1.425, 1.4246, 1.4245, 1.4241, 1.4239, 1.4237, 1.4235, 1.4233, 1.4232, 1.4232, 1.4231, 1.4231, 1.423, 1.4229, 1.4229, 1.4229, 1.4228, 1.4226, 1.4227, 1.4222, 1.4207, 0.9109, 1.2444, 0.2622, 0.8579, 0.7948, 1.4891, 1.4875, 1.4875, 1.487, 1.487, 1.4867, 1.4862, 1.4859, 1.4853, 1.4853, 1.4849, 1.4847, 1.4847, 1.4845, 1.4844, 1.4843, 1.4842, 1.4836, 1.4836, 1.4834, 1.4833, 1.4832, 1.4828, 1.4824, 1.4821, 1.4817, 1.4816, 1.4814, 1.4813, 1.4812, 1.4807, 1.4807, 1.4796, 1.4782, 1.4706, 1.285, 1.3066, 1.2397, 0.7859, 1.0223, 0.2627, 0.7321]}, \"token.table\": {\"Topic\": [4, 3, 3, 1, 3, 3, 4, 1, 3, 4, 1, 4, 4, 4, 4, 3, 3, 3, 2, 4, 4, 1, 2, 3, 1, 1, 2, 1, 4, 2, 1, 1, 2, 1, 3, 2, 4, 1, 3, 4, 2, 2, 4, 4, 1, 1, 1, 2, 1, 2, 4, 2, 2, 2, 4, 2, 1, 1, 4, 1, 2, 1, 4, 2, 3, 2, 3, 1, 1, 2, 4, 1, 1, 2, 4, 1, 2, 3, 2, 1, 2, 3, 2, 4, 3, 1, 2, 3, 4, 4, 1, 4, 3, 4, 4, 3, 3, 3, 3, 4, 2, 3, 4, 3, 4, 2, 3, 1, 2, 2, 2, 3, 1, 3, 1, 2, 3, 4, 4, 1, 3, 3, 1, 2, 3, 4, 4, 2, 4, 2, 1, 2, 3, 4, 1, 2, 3, 4, 3, 2, 4, 1, 2, 2, 1, 4, 4, 2, 2, 3, 2, 2, 4, 1, 2, 3, 4, 1, 2, 3, 1, 1, 3, 3, 3, 4, 3, 2, 4, 2, 3, 2, 3, 2, 4, 1, 3, 2, 3, 1, 2, 3, 1, 1, 2, 4, 3, 2, 3, 4, 1, 3, 4, 1, 2, 1, 2, 1, 2, 2, 2, 4, 2], \"Freq\": [0.9918498324727625, 0.9929451499225319, 0.9905348697462264, 0.998236756250244, 0.9899610569660674, 0.18259676655311977, 0.8129903653674618, 0.9945380059130476, 0.9976066735535691, 0.9942299372209522, 0.9973484255749131, 0.9980811233084655, 0.9903329233503034, 0.987713278406598, 0.9931385684877475, 0.9900196732948072, 0.9944649861660784, 0.9920757092528699, 0.5043708398261446, 0.49346552437044416, 0.9982325653681161, 0.7506141033979815, 0.24232423810486015, 0.9984779559618419, 0.9954166136592404, 0.9914435569776087, 0.9928219427801626, 0.9903244725973561, 0.9941253882270328, 0.9937431030342219, 0.9919726988410894, 0.9980708006590516, 0.9903425007606935, 0.435312703684029, 0.5635744824480733, 0.21850984391844283, 0.7796828521635346, 0.9963092538525405, 0.9941848617644883, 0.990962022458672, 0.9970186673098494, 0.9946061035026228, 0.997066674299513, 0.9971186496113813, 0.9908325799523087, 0.9929013747120494, 0.9915145242826761, 0.9963867820381279, 0.8136713034429396, 0.18514676365767488, 0.9910327363818856, 0.995907341527728, 0.9972272821110312, 0.9879070822941349, 0.9902438861374111, 0.9929987413179807, 0.9961301678188098, 0.7260777728176367, 0.27092454209613315, 0.9942259561917103, 0.9944168863839059, 0.9969034491281125, 0.9934696368705678, 0.9922417336267516, 0.9880840339509807, 0.9921784972621434, 0.993148028268523, 0.9965812408144457, 0.3059763334005186, 0.6912798643493199, 0.9936314239493137, 0.9965880372060486, 0.6756769385691642, 0.32327646629817774, 0.9936336181200047, 0.9955856611176825, 0.7481254113461123, 0.24937513711537077, 0.9944645554406918, 0.3744054848605344, 0.6150947251280208, 0.0089144163062032, 0.6535107737342242, 0.3459762919769422, 0.9934184921216688, 0.9972910795228691, 0.9913388043829939, 0.996431880789465, 0.9963052624134209, 0.9911029741776883, 0.9975065278065208, 0.9902074254543083, 0.37177699750974846, 0.6254601252222827, 0.9939424781227356, 0.9968097625749274, 0.9973512335886454, 0.997955926457755, 0.992710312801131, 0.9898399162995839, 0.111575685733511, 0.5942053961156748, 0.29321052297411027, 0.9935271084463007, 0.9986793447346192, 0.16572294064065926, 0.8286147032032963, 0.991177793376738, 0.997864783876298, 0.9917032473750553, 0.7159714225720383, 0.28277862908307394, 0.9902305986686528, 0.9965890506959638, 0.4998045372577917, 0.17187848340086956, 0.12212418557430206, 0.20580186828262012, 0.9931761240887298, 0.9878051118678979, 0.9893843982574563, 0.9971181047013368, 0.010545594268625133, 0.010545594268625133, 0.010545594268625133, 0.9807402669821373, 0.9864742701745024, 0.16623232232010005, 0.8311616116005002, 0.9978893806563907, 0.6476512100633603, 0.3532642963981965, 0.9889296488659175, 0.9964166769955775, 0.24626844321267094, 0.4166518428772514, 0.31069914056482323, 0.025772278940860913, 0.9920493605381135, 0.9913819330040312, 0.005936418760503181, 0.9987503425697092, 0.9972156977453653, 0.9911068291903512, 0.9937588915166147, 0.9979078564384215, 0.9931560376577386, 0.9956713558955809, 0.9935890043916251, 0.9949635187179909, 0.9961754634738847, 0.9919364314300932, 0.9885158498605803, 0.4916050545415831, 0.26401012188344275, 0.11834936498223296, 0.12745316228855857, 0.9928203195860683, 0.9940409570714296, 0.989236892416949, 0.9940495300398949, 0.9940280884876627, 0.9946257885593964, 0.9899892203711872, 0.009556998044172123, 0.9939277965939007, 0.9915355970466316, 0.9922647998536238, 0.9888431491236371, 0.9973721479341964, 0.9952081352508878, 0.9945858209271414, 0.9908588205511392, 0.010209894853333982, 0.9903598007733964, 0.99814761408532, 0.9968534783697967, 0.6459594263229009, 0.3537396858434934, 0.9940185283471518, 0.9937935869883402, 0.9905974912307656, 0.9937208852717305, 0.2476933112098288, 0.7492722664097321, 0.9926311006580819, 0.99368709995576, 0.9907960977179335, 0.9952558400132512, 0.9981290833484586, 0.9978755133359111, 0.5275594826064343, 0.4668667987667559, 0.5813332940168799, 0.4163603322012789, 0.9961361783849288, 0.9948371483242194, 0.28252452242703807, 0.7146208508448609, 0.9948240154457711, 0.994743778514062, 0.9916990894652887, 0.996336587287667], \"Term\": [\"abc\", \"accus\", \"appoint\", \"approv\", \"arm\", \"attack\", \"attack\", \"aussi\", \"australian\", \"back\", \"ban\", \"begin\", \"bid\", \"big\", \"blaze\", \"board\", \"bu\", \"busi\", \"call\", \"call\", \"car\", \"chang\", \"chang\", \"charg\", \"citi\", \"claim\", \"club\", \"coast\", \"collaps\", \"commun\", \"concern\", \"council\", \"countri\", \"court\", \"court\", \"crash\", \"crash\", \"cut\", \"day\", \"dead\", \"debat\", \"debt\", \"deni\", \"die\", \"disput\", \"doctor\", \"draw\", \"drought\", \"drug\", \"drug\", \"drum\", \"econom\", \"elect\", \"eye\", \"fail\", \"fall\", \"farmer\", \"fear\", \"fear\", \"figur\", \"final\", \"forc\", \"former\", \"found\", \"fourth\", \"friday\", \"full\", \"fund\", \"futur\", \"futur\", \"garrett\", \"govern\", \"govt\", \"govt\", \"great\", \"group\", \"health\", \"health\", \"held\", \"help\", \"help\", \"help\", \"hit\", \"hit\", \"hope\", \"hospit\", \"injuri\", \"interview\", \"iraq\", \"italian\", \"job\", \"judg\", \"kill\", \"kill\", \"labor\", \"latest\", \"lead\", \"leav\", \"line\", \"lock\", \"man\", \"man\", \"man\", \"market\", \"may\", \"melbourn\", \"melbourn\", \"men\", \"mine\", \"minist\", \"miss\", \"miss\", \"mp\", \"murder\", \"new\", \"new\", \"new\", \"new\", \"news\", \"next\", \"olymp\", \"open\", \"paint\", \"paint\", \"paint\", \"paint\", \"pakistan\", \"pay\", \"pay\", \"perth\", \"plan\", \"plan\", \"point\", \"pole\", \"polic\", \"polic\", \"polic\", \"polic\", \"pull\", \"qld\", \"qld\", \"question\", \"rate\", \"record\", \"reduc\", \"report\", \"resid\", \"review\", \"rise\", \"risk\", \"road\", \"run\", \"rural\", \"say\", \"say\", \"say\", \"say\", \"school\", \"search\", \"second\", \"seek\", \"set\", \"shoot\", \"sieg\", \"singapor\", \"singapor\", \"sold\", \"stage\", \"state\", \"station\", \"stori\", \"student\", \"success\", \"sunday\", \"sunday\", \"support\", \"sydney\", \"take\", \"take\", \"team\", \"telstra\", \"test\", \"titl\", \"trade\", \"trade\", \"train\", \"trial\", \"turnbul\", \"two\", \"union\", \"urg\", \"us\", \"us\", \"wa\", \"wa\", \"want\", \"warn\", \"water\", \"water\", \"win\", \"woman\", \"work\", \"world\"]}, \"R\": 30, \"lambda.step\": 0.01, \"plot.opts\": {\"xlab\": \"PC1\", \"ylab\": \"PC2\"}, \"topic.order\": [3, 2, 4, 1]};\n",
       "\n",
       "function LDAvis_load_lib(url, callback){\n",
       "  var s = document.createElement('script');\n",
       "  s.src = url;\n",
       "  s.async = true;\n",
       "  s.onreadystatechange = s.onload = callback;\n",
       "  s.onerror = function(){console.warn(\"failed to load library \" + url);};\n",
       "  document.getElementsByTagName(\"head\")[0].appendChild(s);\n",
       "}\n",
       "\n",
       "if(typeof(LDAvis) !== \"undefined\"){\n",
       "   // already loaded: just create the visualization\n",
       "   !function(LDAvis){\n",
       "       new LDAvis(\"#\" + \"ldavis_el8325620573590130244057082795\", ldavis_el8325620573590130244057082795_data);\n",
       "   }(LDAvis);\n",
       "}else if(typeof define === \"function\" && define.amd){\n",
       "   // require.js is available: use it to load d3/LDAvis\n",
       "   require.config({paths: {d3: \"https://d3js.org/d3.v5\"}});\n",
       "   require([\"d3\"], function(d3){\n",
       "      window.d3 = d3;\n",
       "      LDAvis_load_lib(\"https://cdn.jsdelivr.net/gh/bmabey/pyLDAvis@3.4.0/pyLDAvis/js/ldavis.v3.0.0.js\", function(){\n",
       "        new LDAvis(\"#\" + \"ldavis_el8325620573590130244057082795\", ldavis_el8325620573590130244057082795_data);\n",
       "      });\n",
       "    });\n",
       "}else{\n",
       "    // require.js not available: dynamically load d3 & LDAvis\n",
       "    LDAvis_load_lib(\"https://d3js.org/d3.v5.js\", function(){\n",
       "         LDAvis_load_lib(\"https://cdn.jsdelivr.net/gh/bmabey/pyLDAvis@3.4.0/pyLDAvis/js/ldavis.v3.0.0.js\", function(){\n",
       "                 new LDAvis(\"#\" + \"ldavis_el8325620573590130244057082795\", ldavis_el8325620573590130244057082795_data);\n",
       "            })\n",
       "         });\n",
       "}\n",
       "</script>"
      ],
      "text/plain": [
       "PreparedData(topic_coordinates=              x         y  topics  cluster       Freq\n",
       "topic                                                \n",
       "2     -0.228495 -0.028623       1        1  26.892768\n",
       "1     -0.149627 -0.010719       2        1  26.673315\n",
       "3      0.219569 -0.235701       3        1  23.919313\n",
       "0      0.158552  0.275042       4        1  22.514604, topic_info=          Term        Freq       Total Category  logprob  loglift\n",
       "1133    report  373.000000  373.000000  Default  30.0000  30.0000\n",
       "647   question  354.000000  354.000000  Default  29.0000  29.0000\n",
       "1043      mine  336.000000  336.000000  Default  28.0000  28.0000\n",
       "886     sydney  298.000000  298.000000  Default  27.0000  27.0000\n",
       "86       charg  284.000000  284.000000  Default  26.0000  26.0000\n",
       "...        ...         ...         ...      ...      ...      ...\n",
       "0        crash  156.610829  201.363926   Topic4  -4.9938   1.2397\n",
       "177       call  181.208438  366.793608   Topic4  -4.8479   0.7859\n",
       "688       kill  143.073510  228.631681   Topic4  -5.0842   1.0223\n",
       "139        man  112.838329  385.388624   Topic4  -5.3216   0.2627\n",
       "124         us  100.276475  214.193856   Topic4  -5.4396   0.7321\n",
       "\n",
       "[198 rows x 6 columns], token_table=      Topic      Freq     Term\n",
       "term                          \n",
       "496       4  0.991850      abc\n",
       "101       3  0.992945    accus\n",
       "833       3  0.990535  appoint\n",
       "68        1  0.998237   approv\n",
       "1411      3  0.989961      arm\n",
       "...     ...       ...      ...\n",
       "600       2  0.714621    water\n",
       "500       2  0.994824      win\n",
       "241       2  0.994744    woman\n",
       "279       4  0.991699     work\n",
       "151       2  0.996337    world\n",
       "\n",
       "[203 rows x 3 columns], R=30, lambda_step=0.01, plot_opts={'xlab': 'PC1', 'ylab': 'PC2'}, topic_order=[3, 2, 4, 1])"
      ]
     },
     "execution_count": 13,
     "metadata": {},
     "output_type": "execute_result"
    }
   ],
   "source": [
    "# TODO: show visualization results of the LDA\n",
    "import pyLDAvis\n",
    "import pyLDAvis.gensim\n",
    "\n",
    "pyLDAvis.enable_notebook()\n",
    "\n",
    "vis = pyLDAvis.gensim.prepare(lda, corpus, dictionary)\n",
    "vis"
   ]
  },
  {
   "cell_type": "markdown",
   "metadata": {},
   "source": [
    "Depending on your results, you can try to fine tune the algorithm: number of topics, hyperparameters...\n",
    "And check with others their results."
   ]
  },
  {
   "cell_type": "code",
   "execution_count": null,
   "metadata": {},
   "outputs": [],
   "source": []
  }
 ],
 "metadata": {
  "kernelspec": {
   "display_name": "Python 3 (ipykernel)",
   "language": "python",
   "name": "python3"
  },
  "language_info": {
   "codemirror_mode": {
    "name": "ipython",
    "version": 3
   },
   "file_extension": ".py",
   "mimetype": "text/x-python",
   "name": "python",
   "nbconvert_exporter": "python",
   "pygments_lexer": "ipython3",
   "version": "3.9.12"
  },
  "toc": {
   "base_numbering": 1,
   "nav_menu": {},
   "number_sections": true,
   "sideBar": true,
   "skip_h1_title": false,
   "title_cell": "Table of Contents",
   "title_sidebar": "Contents",
   "toc_cell": false,
   "toc_position": {},
   "toc_section_display": true,
   "toc_window_display": false
  }
 },
 "nbformat": 4,
 "nbformat_minor": 2
}
